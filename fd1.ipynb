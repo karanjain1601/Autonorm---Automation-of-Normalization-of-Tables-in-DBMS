{
 "cells": [
  {
   "cell_type": "code",
   "execution_count": 1,
   "metadata": {},
   "outputs": [],
   "source": [
    "import pandas as pd"
   ]
  },
  {
   "cell_type": "code",
   "execution_count": 4,
   "metadata": {},
   "outputs": [],
   "source": [
    "table = pd.read_csv('/home/lakshya/Desktop/DBMS/Project/sample1 - Sheet1.csv')"
   ]
  },
  {
   "cell_type": "code",
   "execution_count": 5,
   "metadata": {},
   "outputs": [
    {
     "name": "stdout",
     "output_type": "stream",
     "text": [
      "<class 'pandas.core.frame.DataFrame'>\n",
      "RangeIndex: 21 entries, 0 to 20\n",
      "Data columns (total 6 columns):\n",
      " #   Column    Non-Null Count  Dtype  \n",
      "---  ------    --------------  -----  \n",
      " 0   EMPID     21 non-null     int64  \n",
      " 1   HIREDATE  21 non-null     object \n",
      " 2   SALARY    21 non-null     float64\n",
      " 3   DPT       21 non-null     object \n",
      " 4   JOBCODE   21 non-null     int64  \n",
      " 5   SEX       21 non-null     object \n",
      "dtypes: float64(1), int64(2), object(3)\n",
      "memory usage: 1.1+ KB\n"
     ]
    }
   ],
   "source": [
    "table.info()"
   ]
  },
  {
   "cell_type": "code",
   "execution_count": 6,
   "metadata": {},
   "outputs": [
    {
     "data": {
      "text/plain": [
       "6"
      ]
     },
     "execution_count": 6,
     "metadata": {},
     "output_type": "execute_result"
    }
   ],
   "source": [
    "attr = table.columns\n",
    "num_attr = len(attr)\n",
    "num_attr"
   ]
  },
  {
   "cell_type": "code",
   "execution_count": 7,
   "metadata": {},
   "outputs": [
    {
     "data": {
      "text/plain": [
       "dtype('float64')"
      ]
     },
     "execution_count": 7,
     "metadata": {},
     "output_type": "execute_result"
    }
   ],
   "source": [
    "attr_dtypes = table.dtypes\n",
    "attr_dtypes[2]"
   ]
  },
  {
   "cell_type": "code",
   "execution_count": 8,
   "metadata": {},
   "outputs": [
    {
     "data": {
      "text/plain": [
       "21"
      ]
     },
     "execution_count": 8,
     "metadata": {},
     "output_type": "execute_result"
    }
   ],
   "source": [
    "table.shape[0]"
   ]
  },
  {
   "cell_type": "code",
   "execution_count": 9,
   "metadata": {},
   "outputs": [
    {
     "data": {
      "text/plain": [
       "0     119012\n",
       "1     120591\n",
       "2     127845\n",
       "3     129540\n",
       "4     135673\n",
       "5     212916\n",
       "6     216382\n",
       "7     234967\n",
       "8     237642\n",
       "9     239185\n",
       "10    254896\n",
       "11    321783\n",
       "12    328140\n",
       "13    346917\n",
       "14    356134\n",
       "15    423286\n",
       "16    456910\n",
       "17    456921\n",
       "18    457232\n",
       "19    459287\n",
       "20    677890\n",
       "Name: EMPID, dtype: int64"
      ]
     },
     "execution_count": 9,
     "metadata": {},
     "output_type": "execute_result"
    }
   ],
   "source": [
    "table[attr[0]]"
   ]
  },
  {
   "cell_type": "code",
   "execution_count": 10,
   "metadata": {},
   "outputs": [
    {
     "data": {
      "text/plain": [
       "dict"
      ]
     },
     "execution_count": 10,
     "metadata": {},
     "output_type": "execute_result"
    }
   ],
   "source": [
    "type({})"
   ]
  },
  {
   "cell_type": "code",
   "execution_count": 11,
   "metadata": {},
   "outputs": [
    {
     "name": "stdout",
     "output_type": "stream",
     "text": [
      "True\n"
     ]
    }
   ],
   "source": [
    "flag = True\n",
    "setX = set()\n",
    "for i in range(table.shape[0]):\n",
    "    setX.add((table[attr[2]][i],table[attr[3]][i]))\n",
    "checklen = len(setX)\n",
    "listX = list(setX)\n",
    "listY = [set() for i in range(checklen)]\n",
    "for i in range(table.shape[0]):    \n",
    "    id = listX.index((table[attr[2]][i],table[attr[3]][i]))\n",
    "    listY[id].add(table[attr[4]][i])\n",
    "    if (len(listY[id])>1):\n",
    "        flag = False\n",
    "        break\n",
    "print(flag)"
   ]
  },
  {
   "cell_type": "code",
   "execution_count": 12,
   "metadata": {},
   "outputs": [],
   "source": [
    "def funcdcheck(lhs,rhs,tuple_limit=0):\n",
    "    setX = set()\n",
    "    for i in range(table.shape[0]):\n",
    "        tuplist = []\n",
    "        for j in lhs:\n",
    "            tuplist.append(table[j][i])\n",
    "        setX.add(tuple(tuplist))\n",
    "    checklen = len(setX)\n",
    "    listX = list(setX)\n",
    "    listY = [set() for i in range(checklen)]\n",
    "    for i in range(table.shape[0]):    \n",
    "        tuplist = []\n",
    "        for j in lhs:\n",
    "            tuplist.append(table[j][i])\n",
    "        id = listX.index(tuple(tuplist))\n",
    "        listY[id].add(table[rhs][i])\n",
    "        if (len(listY[id])>1):\n",
    "            return False\n",
    "    return True"
   ]
  },
  {
   "cell_type": "code",
   "execution_count": 13,
   "metadata": {},
   "outputs": [
    {
     "data": {
      "text/plain": [
       "True"
      ]
     },
     "execution_count": 13,
     "metadata": {},
     "output_type": "execute_result"
    }
   ],
   "source": [
    "funcdcheck([\"EMPID\"],\"HIREDATE\")"
   ]
  },
  {
   "cell_type": "code",
   "execution_count": 14,
   "metadata": {},
   "outputs": [],
   "source": [
    "setX = set()\n",
    "lhs = [\"EMPID\"]\n",
    "for i in range(table.shape[0]):\n",
    "    tuplist = []\n",
    "    for j in lhs:\n",
    "        tuplist.append(table[j][1])\n",
    "    setX.add(tuple(tuplist))"
   ]
  },
  {
   "cell_type": "code",
   "execution_count": 15,
   "metadata": {},
   "outputs": [
    {
     "name": "stdout",
     "output_type": "stream",
     "text": [
      "<class 'tuple'>\n"
     ]
    }
   ],
   "source": [
    "tup = ()\n",
    "tup = tup + (1,2)\n",
    "print(type(tup))"
   ]
  },
  {
   "cell_type": "code",
   "execution_count": 1,
   "metadata": {},
   "outputs": [],
   "source": [
    "#closure\n",
    "#fd is array in which fds are stored in form of list of list\n",
    "#elemts is list which contain attributes name> \n",
    "#fd is <list<list<list>>>\n",
    "# C is set\n",
    "def findclosure(C, fd):\n",
    "    Cplus=set(C)\n",
    "    while(True):\n",
    "        prev=Cplus\n",
    "        for dependency in fd:# list<list>>\n",
    "            left=set(dependency[0]) # set of attribute\n",
    "            right=set(dependency[1]) #set of attribute\n",
    "            if(left.issubset(Cplus)):\n",
    "                Cplus=Cplus.union(right)\n",
    "        if(prev==Cplus):\n",
    "            break\n",
    "    return Cplus\n",
    "\n"
   ]
  },
  {
   "cell_type": "code",
   "execution_count": 2,
   "metadata": {},
   "outputs": [],
   "source": [
    "#candidate key find\n",
    "\n",
    "def findCK(elements, fd):\n",
    "    CK=[]\n",
    "    n=len(elements)\n",
    "    isone=False\n",
    "    istwo=False\n",
    "    for i in elements:\n",
    "        closure=findclosure(list([i]), fd)\n",
    "        if len(closure) == len(elements) and i not in CK:\n",
    "            CK.append([i])\n",
    "            isone=True\n",
    "    \n",
    "    if isone==False:\n",
    "        # CK.clear()\n",
    "        for i in range(0, len(elements)-1):\n",
    "            for j in range(1, len(elements)):\n",
    "                closure=findclosure(list([elements[i], elements[j]]), fd)\n",
    "                if len(closure)==len(elements):\n",
    "                    val=[elements[i], elements[j]]\n",
    "                    val.sort()\n",
    "                    if val not in CK:\n",
    "                        CK.append([elements[i], elements[j]])\n",
    "                    istwo=True\n",
    "    \n",
    "    if istwo==False:\n",
    "        # CK.clear()\n",
    "        for i in range(0, len(elements)-2):\n",
    "            for j in range(1, len(elements)-1):\n",
    "                for k in range(2, len(elements)):\n",
    "                    closure=findclosure(list([elements[i], elements[j], elements[k]]), fd)\n",
    "                    if len(closure)==len(elements):\n",
    "                        val=[elements[i], elements[j], elements[k]]\n",
    "                        if val not in CK:\n",
    "                            CK.append([elements[i], elements[j], elements[k]])\n",
    "                        \n",
    "    \n",
    "    return CK                  "
   ]
  },
  {
   "cell_type": "code",
   "execution_count": 3,
   "metadata": {},
   "outputs": [],
   "source": [
    "# elements=['A', 'B', 'C', 'D', 'E', 'F']\n",
    "# fd=[[['A', 'B'],['C']], [['C'],['D','E']],[['E'],['F']],[['F'], ['A']]]\n",
    "# CK=findCK(elements, fd)\n",
    "\n",
    "elements=['A', 'B', 'C', 'D', 'E']\n",
    "fd=[[['B', 'C'],['A', 'D', 'E']], [['D'],['B']]]\n",
    "CK=findCK(elements, fd)"
   ]
  },
  {
   "cell_type": "code",
   "execution_count": 4,
   "metadata": {},
   "outputs": [
    {
     "data": {
      "text/plain": [
       "[['B', 'C'], ['C', 'D']]"
      ]
     },
     "execution_count": 4,
     "metadata": {},
     "output_type": "execute_result"
    }
   ],
   "source": [
    "CK"
   ]
  },
  {
   "cell_type": "code",
   "execution_count": 5,
   "metadata": {},
   "outputs": [
    {
     "name": "stdout",
     "output_type": "stream",
     "text": [
      "{'B', 'D', 'C'}\n",
      "{'A', 'E'}\n"
     ]
    }
   ],
   "source": [
    "def findPK(CK):\n",
    "    PK=set()\n",
    "    NPK=set()\n",
    "    for i in CK:\n",
    "        for j in i:\n",
    "            PK.add(j)\n",
    "    afd=set(elements)\n",
    "    NPK=afd.difference(PK)\n",
    "    return PK, NPK\n"
   ]
  },
  {
   "cell_type": "code",
   "execution_count": 20,
   "metadata": {},
   "outputs": [
    {
     "name": "stdout",
     "output_type": "stream",
     "text": [
      "\n"
     ]
    },
    {
     "data": {
      "text/plain": [
       "True"
      ]
     },
     "execution_count": 20,
     "metadata": {},
     "output_type": "execute_result"
    }
   ],
   "source": [
    "#left side me subset of ck and right side me NPK\n",
    "#check partial dependency for one fd\n",
    "def checkPD(fd, ck, pk):\n",
    "    fd[0].sort()\n",
    "    left=set(fd[0]) #set of elements\n",
    "    right=fd[1] #list of element\n",
    "    for i in right:\n",
    "        for j in ck:\n",
    "            j.sort()\n",
    "            j =set(j)\n",
    "            print()\n",
    "            if left.issubset(j) and i not in pk and left!=j: #partial dependency hai\n",
    "                return True\n",
    "    \n",
    "    return False\n",
    "\n",
    "ck=[['B', 'C'], ['C', 'D']]\n",
    "fd=[['B'],['C']]\n",
    "pk=set(['B', 'D', 'E'])\n",
    "# fd[0].sort()\n",
    "\n",
    "checkPD(fd, ck, pk)"
   ]
  },
  {
   "cell_type": "code",
   "execution_count": 26,
   "metadata": {},
   "outputs": [
    {
     "data": {
      "text/plain": [
       "True"
      ]
     },
     "execution_count": 26,
     "metadata": {},
     "output_type": "execute_result"
    }
   ],
   "source": [
    "#check 3NF for one fd\n",
    "def check3NF(fd, ck, pk):\n",
    "    fd[0].sort()\n",
    "    left=set(fd[0]) #set of elements\n",
    "    right=set(fd[1]) #list of element\n",
    "    for i in ck:\n",
    "        a=set(i)\n",
    "        if right.issubset(pk) or left.issuperset(i):\n",
    "            return True\n",
    "    return False\n",
    "ck=[['B', 'C'], ['C', 'D']]\n",
    "fd=[['C', 'B'],['D']]\n",
    "pk=set(['B', 'D', 'E'])\n",
    "check3NF(fd, ck, pk)"
   ]
  },
  {
   "cell_type": "code",
   "execution_count": 30,
   "metadata": {},
   "outputs": [
    {
     "data": {
      "text/plain": [
       "False"
      ]
     },
     "execution_count": 30,
     "metadata": {},
     "output_type": "execute_result"
    }
   ],
   "source": [
    "#check bcnf for one fd\n",
    "def checkBCNF(fd, ck, pk):\n",
    "    left=set(fd[0]) #set of elements\n",
    "    for i in ck:\n",
    "        a=set(i)\n",
    "        if left.issuperset(a):\n",
    "            return True\n",
    "    return False\n",
    "\n",
    "ck=[['B', 'C'], ['C', 'D']]\n",
    "fd=[['C'],['D', 'B']]\n",
    "pk=set(['B', 'D', 'E'])\n",
    "checkBCNF(fd, ck, pk)"
   ]
  },
  {
   "cell_type": "code",
   "execution_count": 31,
   "metadata": {},
   "outputs": [],
   "source": [
    "def areFDsin2NF(elements, fds): #fds is list<list<list<str>>> #CK is list of list and #PK, NPK are sets\n",
    "    CK=findCK(elements, fds)\n",
    "    PK, NPK=findPK(CK)\n",
    "    problem=[]\n",
    "    for fd in fds:\n",
    "        if checkPD(fd, CK, PK):\n",
    "            problem.append(fd)\n",
    "    return problem\n",
    "\n",
    "\n",
    "def areFDsin3NF(elements, fds):\n",
    "    CK=findCK(elements, fds)\n",
    "    PK, NPK=findPK(CK)\n",
    "    problem=[]\n",
    "    for fd in fds:\n",
    "        if not check3NF(fd, CK, PK):\n",
    "            problem.append(fd)\n",
    "    return problem\n",
    "\n",
    "def areFDsinBCNF(elements, fds):\n",
    "    CK=findCK(elements, fds)\n",
    "    PK, NPK=findPK(CK)\n",
    "    problem=[]\n",
    "    for fd in fds:\n",
    "        if not checkBCNF(fd, CK, PK):\n",
    "            problem.append(fd)\n",
    "    return problem"
   ]
  },
  {
   "cell_type": "code",
   "execution_count": null,
   "metadata": {},
   "outputs": [],
   "source": [
    "def Normalize(problems, elements, fds):\n",
    "    "
   ]
  }
 ],
 "metadata": {
  "kernelspec": {
   "display_name": "Python 3.9.13 ('base')",
   "language": "python",
   "name": "python3"
  },
  "language_info": {
   "codemirror_mode": {
    "name": "ipython",
    "version": 3
   },
   "file_extension": ".py",
   "mimetype": "text/x-python",
   "name": "python",
   "nbconvert_exporter": "python",
   "pygments_lexer": "ipython3",
   "version": "3.9.13"
  },
  "orig_nbformat": 4,
  "vscode": {
   "interpreter": {
    "hash": "d52c9653eb50e29abfec59af6790ccf4652179b505a7add6bc08d429e850f187"
   }
  }
 },
 "nbformat": 4,
 "nbformat_minor": 2
}
